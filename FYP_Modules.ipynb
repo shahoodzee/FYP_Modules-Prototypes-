{
  "nbformat": 4,
  "nbformat_minor": 0,
  "metadata": {
    "colab": {
      "provenance": []
    },
    "kernelspec": {
      "name": "python3",
      "display_name": "Python 3"
    },
    "language_info": {
      "name": "python"
    }
  },
  "cells": [
    {
      "cell_type": "markdown",
      "source": [
        "##**Module-1**"
      ],
      "metadata": {
        "id": "XlirmDDJjwDQ"
      }
    },
    {
      "cell_type": "markdown",
      "source": [
        "#AI Recoomendation system to recommend tools to workers when they they tend to buy tools from our E-commerce shop.\n",
        "One way to implement a recommendation system is to use collaborative filtering, which is a technique that analyzes user behavior and preferences to make recommendations. This involves tracking what products a user has viewed or purchased, as well as what other users who have similar behavior have also viewed or purchased.\n",
        "\n",
        "One approach is to use content-based filtering, which analyzes the features of each product (such as its category, brand, price, etc.) and recommends other products with similar features. This approach is less reliant on user behavior data but can still be effective in making relevant recommendations.\n"
      ],
      "metadata": {
        "id": "wDQgbtNZffVy"
      }
    },
    {
      "cell_type": "code",
      "source": [
        "#@title making a random csv file about hardware tools\n",
        "import csv\n",
        "\n",
        "# Define product data as a list of dictionaries\n",
        "products = [\n",
        "    {'name': 'Hammer', 'description': 'A heavy-duty hammer with a steel handle and rubber grip', 'category': 'Tools', 'price': 19.99},\n",
        "    {'name': 'Screwdriver Set', 'description': 'A set of screwdrivers in various sizes and shapes, made from durable chrome vanadium steel', 'category': 'Tools', 'price': 29.99},\n",
        "    {'name': 'Circular Saw', 'description': 'A powerful saw with a 7-1/4-inch blade and a 15-amp motor', 'category': 'Power Tools', 'price': 99.99},\n",
        "    {'name': 'Drill Bit Set', 'description': 'A set of drill bits in various sizes, made from high-speed steel for fast drilling and long life', 'category': 'Tools', 'price': 14.99},\n",
        "    {'name': 'Impact Wrench', 'description': 'A cordless impact wrench with a powerful motor and a compact design, ideal for automotive work', 'category': 'Power Tools', 'price': 149.99},\n",
        "    {'name': 'Work Gloves', 'description': 'A pair of heavy-duty work gloves made from durable leather, with reinforced palms and fingertips', 'category': 'Safety Equipment', 'price': 12.99},\n",
        "    {'name': 'Tool Belt', 'description': 'A sturdy tool belt with multiple pockets for easy access to tools', 'category': 'Tools', 'price': 24.99},\n",
        "    {'name': 'Tape Measure', 'description': 'A 25-foot tape measure with a durable case and easy-to-read markings', 'category': 'Tools', 'price': 9.99},\n",
        "    {'name': 'Angle Grinder', 'description': 'A versatile angle grinder with a powerful motor and adjustable guard', 'category': 'Power Tools', 'price': 79.99},\n",
        "    {'name': 'Paint Sprayer', 'description': 'An electric paint sprayer for smooth and even application of paint', 'category': 'Power Tools', 'price': 69.99},\n",
        "    {'name': 'Safety Glasses', 'description': 'Protective glasses with impact-resistant lenses for eye safety', 'category': 'Safety Equipment', 'price': 4.99},\n",
        "    {'name': 'Cordless Drill', 'description': 'A compact and powerful cordless drill for drilling and driving tasks', 'category': 'Power Tools', 'price': 59.99},\n",
        "    {'name': 'Adjustable Wrench', 'description': 'A versatile adjustable wrench for tightening or loosening bolts and nuts', 'category': 'Tools', 'price': 8.99},\n",
        "    {'name': 'Carpenters Square', 'description': 'A measuring tool for ensuring right angles and accurate cuts in woodworking', 'category': 'Tools', 'price': 7.99},\n",
        "    {'name': 'Chainsaw', 'description': 'A gasoline-powered chainsaw for cutting through wood and logs', 'category': 'Power Tools', 'price': 199.99},\n",
        "    {'name': 'Dust Mask', 'description': 'A disposable dust mask for protection against airborne particles', 'category': 'Safety Equipment', 'price': 2.99},\n",
        "    {'name': 'Pliers Set', 'description': 'A set of pliers in different sizes and styles for gripping and bending', 'category': 'Tools', 'price': 19.99},\n",
        "    {'name': 'Router', 'description': 'A versatile router for shaping edges, cutting grooves, and creating decorative patterns', 'category': 'Power Tools', 'price': 89.99},\n",
        "    {'name': 'Safety Vest', 'description': 'A high-visibility safety vest for improved visibility in construction or outdoor work', 'category': 'Safety Equipment', 'price': 9.99},\n",
        "    {'name': 'Sanding Block', 'description': 'A sanding block for hand sanding of flat or curved surfaces', 'category': 'Tools', 'price': 3.99},\n",
        "    {'name': 'Jigsaw', 'description': 'A versatile jigsaw for cutting curves and intricate shapes in wood or metal', 'category': 'Power Tools', 'price': 79.99},\n",
        "    {'name': 'Gloves with Grip', 'description': 'Work gloves with a textured grip for better handling of tools', 'category': 'Safety Equipment', 'price': 6.99},\n",
        "    {'name': 'Claw Hammer', 'description': 'A claw hammer with a curved claw for pulling out nails', 'category': 'Tools', 'price': 14.99},\n",
        "    {'name': 'Corded Drill', 'description': 'A powerful corded drill for heavy-duty drilling and driving tasks', 'category': 'Power Tools', 'price': 49.99},\n",
        "    {'name': 'Utility Knife', 'description': 'A versatile utility knife for cutting various materials', 'category': 'Tools', 'price': 5.99},\n",
        "    {'name': 'Bench Grinder', 'description': 'A bench grinder for sharpening tools and shaping metal', 'category': 'Power Tools', 'price': 59.99},\n",
        "    {'name': 'Safety Ear Muffs', 'description': 'Protective earmuffs for reducing noise exposure in noisy work environments', 'category': 'Safety Equipment', 'price': 9.99},\n",
        "    {'name': 'Screw Assortment Set', 'description': 'A set of screws in various sizes and types for different applications', 'category': 'Tools', 'price': 12.99},\n",
        "    {'name': 'Rotary Tool Kit', 'description': 'A versatile rotary tool kit for cutting, grinding, polishing, and more', 'category': 'Power Tools', 'price': 29.99},\n",
        "    {'name': 'Toolbox', 'description': 'A sturdy toolbox for organizing and storing tools', 'category': 'Tools', 'price': 19.99},\n",
        "    {'name': 'Heat Gun', 'description': 'A heat gun for various applications such as paint stripping and plastic bending', 'category': 'Power Tools', 'price': 24.99},\n",
        "    {'name': 'Face Shield', 'description': 'A full-face shield for protection against flying debris and splashes', 'category': 'Safety Equipment', 'price': 12.99},\n",
        "    {'name': 'Pipe Wrench', 'description': 'A pipe wrench for gripping and turning pipes and fittings', 'category': 'Tools', 'price': 17.99},\n",
        "    {'name': 'Reciprocating Saw', 'description': 'A powerful reciprocating saw for cutting through wood, metal, and other materials', 'category': 'Power Tools', 'price': 119.99},\n",
        "    {'name': 'Knee Pads', 'description': 'Protective knee pads for cushioning and protecting knees during work', 'category': 'Safety Equipment', 'price': 9.99},\n",
        "    {'name': 'Staple Gun', 'description': 'A staple gun for fastening materials such as fabric, insulation, and cables', 'category': 'Tools', 'price': 14.99},\n",
        "    {'name': 'Cordless Impact Driver', 'description': 'A cordless impact driver for powerful screwdriving and fastening', 'category': 'Power Tools', 'price': 79.99},\n",
        "    {'name': 'Safety Harness', 'description': 'A safety harness for fall protection in elevated work environments', 'category': 'Safety Equipment', 'price': 39.99},\n",
        "    {'name': 'Hacksaw', 'description': 'A hacksaw for cutting through metal and plastic', 'category': 'Tools', 'price': 9.99},\n",
        "    {'name': 'Belt Sander', 'description': 'A powerful belt sander for sanding large surfaces and removing material quickly', 'category': 'Power Tools', 'price': 79.99},\n",
        "    {'name': 'Safety Shoes', 'description': 'Protective safety shoes with reinforced toe caps and slip-resistant soles', 'category': 'Safety Equipment', 'price': 29.99},\n",
        "    {'name': 'Stud Finder', 'description': 'A stud finder for locating studs and other hidden objects behind walls', 'category': 'Tools', 'price': 9.99},\n",
        "    {'name': 'Cordless Angle Grinder', 'description': 'A cordless angle grinder for cutting, grinding, and polishing', 'category': 'Power Tools', 'price': 89.99},\n",
        "    {'name': 'Safety Cones', 'description': 'Brightly colored safety cones for marking hazards or work areas', 'category': 'Safety Equipment', 'price': 7.99},\n",
        "    {'name': 'Adjustable Clamp', 'description': 'An adjustable clamp for holding and securing objects during work', 'category': 'Tools', 'price': 12.99},\n",
        "    {'name': 'Rotary Hammer', 'description': 'A rotary hammer for drilling into concrete and masonry', 'category': 'Power Tools', 'price': 149.99},\n",
        "    {'name': 'Safety Goggles', 'description': 'Protective goggles for eye protection against dust, debris, and chemicals', 'category': 'Safety Equipment', 'price': 3.99},\n",
        "    {'name': 'Allen Wrench Set', 'description': 'A set of Allen wrenches in different sizes for tightening or loosening hexagonal screws', 'category': 'Tools', 'price': 6.99},\n",
        "    {'name': 'Cordless Reciprocating Saw', 'description': 'A cordless reciprocating saw for cutting through wood, metal, and other materials', 'category': 'Power Tools', 'price': 99.99},\n",
        "    {'name': 'Safety Hard Hat', 'description': 'A safety hard hat for head protection in construction or industrial settings', 'category': 'Safety Equipment', 'price': 14.99},\n",
        "    {'name': 'Wire Stripper', 'description': 'A wire stripper for removing insulation from electrical wires', 'category': 'Tools', 'price': 7.99},\n",
        "    {'name': 'Bench Vise', 'description': 'A bench vise for securing workpieces during cutting, drilling, or shaping', 'category': 'Tools', 'price': 39.99},\n",
        "    {'name': 'Cordless Screwdriver', 'description': 'A compact cordless screwdriver for small fastening tasks', 'category': 'Power Tools', 'price': 29.99},\n",
        "    {'name': 'Safety Gloves', 'description': 'Protective gloves for hand safety in various work environments', 'category': 'Safety Equipment', 'price': 4.99},\n",
        "]\n",
        "\n",
        "# Write product data to a CSV file\n",
        "with open('products.csv', 'w', newline='') as csvfile:\n",
        "    writer = csv.DictWriter(csvfile, fieldnames=['name', 'description', 'category', 'price'])\n",
        "    writer.writeheader()\n",
        "    writer.writerows(products)"
      ],
      "metadata": {
        "id": "8uxY9HPfMOh_",
        "cellView": "form"
      },
      "execution_count": null,
      "outputs": []
    },
    {
      "cell_type": "code",
      "source": [
        "#@title Implementation of AI-recommendation system\n",
        "\n",
        "import pandas as pd\n",
        "from sklearn.feature_extraction.text import TfidfVectorizer\n",
        "from sklearn.metrics.pairwise import cosine_similarity\n",
        "\n",
        "# Load product data\n",
        "products = pd.read_csv('products.csv')\n",
        "\n",
        "# Extract features using TF-IDF vectorization\n",
        "tfidf = TfidfVectorizer(stop_words='english')\n",
        "product_features = tfidf.fit_transform(products['description'])\n",
        "\n",
        "# Compute cosine similarity between products\n",
        "cosine_similarities = cosine_similarity(product_features)\n",
        "\n",
        "# Get top 5 similar products for each product\n",
        "similar_products = {}\n",
        "for i, product in enumerate(products['name']):\n",
        "    sim_scores = list(enumerate(cosine_similarities[i]))\n",
        "    sim_scores = sorted(sim_scores, key=lambda x: x[1], reverse=True)\n",
        "    sim_scores = sim_scores[1:6]\n",
        "    product_indices = [idx for idx, _ in sim_scores]\n",
        "    similar_products[product] = products['name'].iloc[product_indices].tolist()\n",
        "\n",
        "# Print similar products for a specific product\n",
        "print(similar_products['Impact Wrench'])\n"
      ],
      "metadata": {
        "id": "sy_munOfMh5s",
        "colab": {
          "base_uri": "https://localhost:8080/"
        },
        "outputId": "77139d3e-fb33-4379-c112-36464994b445"
      },
      "execution_count": null,
      "outputs": [
        {
          "output_type": "stream",
          "name": "stdout",
          "text": [
            "['Cordless Impact Driver', 'Cordless Drill', 'Cordless Screwdriver', 'Angle Grinder', 'Circular Saw']\n"
          ]
        }
      ]
    },
    {
      "cell_type": "markdown",
      "source": [
        "In this example, we load product data from a CSV file that contains information about each product, including its name and description. We then use the TfidfVectorizer from scikit-learn to extract features from the product descriptions, and compute cosine similarity between the products. Finally, we retrieve the top 5 similar products for each product based on their cosine similarity scores.\n",
        "\n",
        "Note that this is just a simple example to demonstrate the concept of content-based recommendation. In a real-world scenario, you may need to consider additional factors such as user behavior data and collaborative filtering to improve the accuracy of the recommendations."
      ],
      "metadata": {
        "id": "XE2cKq-8hxJT"
      }
    },
    {
      "cell_type": "markdown",
      "source": [
        "##**Module-2**"
      ],
      "metadata": {
        "id": "9-MO0z72kW-9"
      }
    },
    {
      "cell_type": "markdown",
      "source": [
        "Feeedback will be asked from user for every work done by a worker and this feedback will be converted into a integer score which will be further used to rate our workers. This is done by sentiment analysis"
      ],
      "metadata": {
        "id": "7XzxtryvuaJh"
      }
    },
    {
      "cell_type": "markdown",
      "source": [
        "Sentiment analysis is the process of determining the emotional tone behind a series of words, and it can be performed using various techniques. One popular approach is to use machine learning models that have been trained on large datasets of labeled text.\n",
        "\n",
        "Here's a simple example using Python and the Natural Language Toolkit (NLTK) library"
      ],
      "metadata": {
        "id": "oOlkVF7NrYWP"
      }
    },
    {
      "cell_type": "markdown",
      "source": [
        " We can use the VADER (Valence Aware Dictionary and sEntiment Reasoner) sentiment analyzer, which is a pre-trained model included in NLTK, to perform sentiment analysis on your feedback.\n",
        "\n",
        "This will output a dictionary containing four scores between -1 and 1, representing the positivity, negativity, neutrality, and overall sentiment of the feedback:\n",
        "\n",
        "python"
      ],
      "metadata": {
        "id": "0MBug3IotYvr"
      }
    },
    {
      "cell_type": "code",
      "source": [
        "import nltk\n",
        "nltk.download('vader_lexicon')"
      ],
      "metadata": {
        "colab": {
          "base_uri": "https://localhost:8080/"
        },
        "id": "rCayCZqAYiSW",
        "outputId": "2aa80b54-6ed3-4a65-a80c-a967230bdb35"
      },
      "execution_count": null,
      "outputs": [
        {
          "output_type": "stream",
          "name": "stderr",
          "text": [
            "[nltk_data] Downloading package vader_lexicon to /root/nltk_data...\n"
          ]
        },
        {
          "output_type": "execute_result",
          "data": {
            "text/plain": [
              "True"
            ]
          },
          "metadata": {},
          "execution_count": 11
        }
      ]
    },
    {
      "cell_type": "markdown",
      "source": [
        "##Sentiment Analysis via NLTK library."
      ],
      "metadata": {
        "id": "Z3ICjWaBfVxC"
      }
    },
    {
      "cell_type": "code",
      "source": [
        "from nltk.sentiment import SentimentIntensityAnalyzer"
      ],
      "metadata": {
        "id": "oqQZzMpcyWde"
      },
      "execution_count": null,
      "outputs": []
    },
    {
      "cell_type": "code",
      "source": [
        "feedback = \"\"\"\n",
        "I recently stayed at this hotel and had a mixed experience.\n",
        "The room was spacious and clean, but the bathroom was outdated and in need of renovation.\n",
        "The staff were friendly and helpful, but the restaurant was overpriced and the food was mediocre.\n",
        "Overall, I would give this hotel a 3 out of 5 rating.\n",
        "\"\"\"\n",
        "\n",
        "analyzer = SentimentIntensityAnalyzer()\n",
        "scores = analyzer.polarity_scores(feedback)\n",
        "\n",
        "if scores['compound'] > 0.5:\n",
        "    score = 5\n",
        "elif scores['compound'] > 0.1:\n",
        "    score = 4\n",
        "elif scores['compound'] > -0.1:\n",
        "    score = 3\n",
        "elif scores['compound'] > -0.5:\n",
        "    score = 2\n",
        "else:\n",
        "    score = 1\n",
        "\n",
        "print(f\"The feedback has been given a score of {score}\")\n"
      ],
      "metadata": {
        "id": "QGd2v5rAtDbj",
        "colab": {
          "base_uri": "https://localhost:8080/"
        },
        "outputId": "4addd114-67f8-4470-eeae-668a020fd653"
      },
      "execution_count": null,
      "outputs": [
        {
          "output_type": "stream",
          "name": "stdout",
          "text": [
            "The feedback has been given a score of 5\n"
          ]
        }
      ]
    },
    {
      "cell_type": "markdown",
      "source": [
        "The compound score is a normalized score between -1 and 1 that represents the overall sentiment of the feedback. Positive values indicate positive sentiment, while negative values indicate negative sentiment.\n",
        "\n",
        "You can use these scores to give a score to the feedback based on the sentiment. For example, you could use the following rules:\n",
        "\n",
        "\n",
        "\n",
        "1. If the compound score is greater than 0.5, give a score of 5 (very positive)\n",
        "2. If the compound score is between 0.1 and 0.5, give a score of 4 (positive)\n",
        "3. If the compound score is between -0.1 and 0.1, give a score of 3 (neutral)\n",
        "\n",
        "4. If the compound score is between -0.5 and -0.1, give a score of 2 (negative)\n",
        "5. If the compound score is less than -0.5, give a score of 1 (very negative)"
      ],
      "metadata": {
        "id": "YGzoGEvPt_H2"
      }
    },
    {
      "cell_type": "markdown",
      "source": [
        "##Sentiment Analysis via Transformers"
      ],
      "metadata": {
        "id": "WiAlevAejaRp"
      }
    },
    {
      "cell_type": "code",
      "source": [
        "#@title Installing transformer\n",
        "pip install transformers"
      ],
      "metadata": {
        "id": "2OwWbmPlfITi"
      },
      "execution_count": null,
      "outputs": []
    },
    {
      "cell_type": "code",
      "source": [
        "from transformers import pipeline"
      ],
      "metadata": {
        "id": "ga8tiW67fvDU"
      },
      "execution_count": null,
      "outputs": []
    },
    {
      "cell_type": "code",
      "source": [
        "\n",
        "\n",
        "feedback = \"\"\"\n",
        "I recently stayed at this hotel and had a mixed experience.\n",
        "The room was spacious and clean, but the bathroom was outdated and in need of renovation.\n",
        "The staff were friendly and helpful, but the restaurant was overpriced and the food was mediocre.\n",
        "Overall, I would give this hotel a 3 out of 5 rating.\n",
        "\"\"\"\n",
        "\n",
        "# Load the sentiment analysis pipeline\n",
        "#nlp = pipeline(\"sentiment-analysis\")\n",
        "\n",
        "#nlp = pipeline(\"sentiment-analysis\", model=\"nlptown/bert-base-multilingual-uncased-sentiment\")\n",
        "\n",
        "# Load the sentiment analysis pipeline with a fine-tuned model\n",
        "nlp = pipeline(\"text-classification\", model=\"distilbert-base-uncased-finetuned-sst-2-english\")\n",
        "\n",
        "\n",
        "# Perform sentiment analysis on the feedback\n",
        "result = nlp(feedback)[0]\n",
        "\n",
        "# Extract the sentiment label and score\n",
        "sentiment_label = result[\"label\"]\n",
        "sentiment_score = result[\"score\"]\n",
        "\n",
        "print(f\"The feedback sentiment is {sentiment_label} with a score of {sentiment_score}\")\n"
      ],
      "metadata": {
        "colab": {
          "base_uri": "https://localhost:8080/"
        },
        "id": "xDdr-YhZfCYX",
        "outputId": "4fc2732d-9ab4-4056-dfc0-24d97ee160af"
      },
      "execution_count": null,
      "outputs": [
        {
          "output_type": "stream",
          "name": "stderr",
          "text": [
            "No model was supplied, defaulted to distilbert-base-uncased-finetuned-sst-2-english and revision af0f99b (https://huggingface.co/distilbert-base-uncased-finetuned-sst-2-english).\n",
            "Using a pipeline without specifying a model name and revision in production is not recommended.\n"
          ]
        },
        {
          "output_type": "stream",
          "name": "stdout",
          "text": [
            "The feedback sentiment is NEGATIVE with a score of 0.998971700668335\n"
          ]
        }
      ]
    },
    {
      "cell_type": "markdown",
      "source": [
        "##"
      ],
      "metadata": {
        "id": "YDEt3ctjrhWv"
      }
    }
  ]
}